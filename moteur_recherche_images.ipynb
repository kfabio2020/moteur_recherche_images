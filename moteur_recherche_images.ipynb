{
 "cells": [
  {
   "cell_type": "markdown",
   "metadata": {},
   "source": [
    "# Moteur de recherche d’images par le contenu"
   ]
  },
  {
   "cell_type": "code",
   "execution_count": 1,
   "metadata": {},
   "outputs": [],
   "source": [
    "''' Importation de librairies '''\n",
    "import cv2 as cv\n",
    "import numpy as np\n",
    "import os\n",
    "from pathlib import Path\n",
    "import fnmatch\n",
    "import math\n",
    "from itertools import islice"
   ]
  },
  {
   "cell_type": "code",
   "execution_count": 2,
   "metadata": {},
   "outputs": [],
   "source": [
    "''' Chemin vers la base de données d'image '''\n",
    "base_dir = 'C:\\\\Users\\\\Admin\\Documents\\\\eclipse-workspace\\\\TP_INDEXATION\\\\Base_test\\\\'"
   ]
  },
  {
   "cell_type": "code",
   "execution_count": 3,
   "metadata": {},
   "outputs": [],
   "source": [
    "''' Vérifier si l' image de la requete existe dans la base d'image\n",
    "    Elle prend on paramètre le nom de l'image avec son extension \n",
    "    et retourne vrai ou faux '''\n",
    "def existe_img_base(img):\n",
    "    my_file = Path(img)\n",
    "    if my_file.is_file():\n",
    "        return True\n",
    "    else:\n",
    "        return False"
   ]
  },
  {
   "cell_type": "code",
   "execution_count": 4,
   "metadata": {},
   "outputs": [],
   "source": [
    "''' Permet de calculer l'histogramme d'une image passée \n",
    "    en paramètre et de l'échelle de  réduction\n",
    "    Nous utiliserons une  réduition l'histograme de 32\n",
    "    Cette fontion retourne une matrice '''\n",
    "def construction_histogram(img, echelle_reduction):\n",
    "    k = [echelle_reduction] * 3\n",
    "    image = cv.imread(img)\n",
    "    # Convertir de BGR en RGB\n",
    "    img_rgb = cv.cvtColor(image, cv.COLOR_BGR2RGB)\n",
    "    histo = cv.calcHist([img_rgb], [0, 1, 2], None,k , [0, 256, 0, 256, 0, 256])\n",
    "    #histo_normalise = cv.normalize(histo, histo).flatten()\n",
    "    return histo"
   ]
  },
  {
   "cell_type": "code",
   "execution_count": 5,
   "metadata": {},
   "outputs": [],
   "source": [
    "''' Calcul de l'histogramme de toute la base de données '''\n",
    "def calcul_histogramme_base(base,image_requete,echelle_reduction):\n",
    "    dic_histogramme = {}\n",
    "    for path, _, files in os.walk(base):\n",
    "        for file in files:\n",
    "            #La deuxième condition permet d'exclure l'image de la requete dans le cacul de l'histogramme\n",
    "            if ((fnmatch.fnmatch(file, '*.png')) and (file != image_requete)):\n",
    "                fullname = os.path.join(path, file)\n",
    "                histo = construction_histogram(fullname, echelle_reduction)\n",
    "                dic_histogramme[file]=histo\n",
    "    return dic_histogramme"
   ]
  },
  {
   "cell_type": "code",
   "execution_count": 6,
   "metadata": {
    "scrolled": true
   },
   "outputs": [],
   "source": [
    "''' Chargement de l'histogramme de toute la base de données '''\n",
    "histogramme_bases = calcul_histogramme_base(base_dir,'obj1__0.png', 32)"
   ]
  },
  {
   "cell_type": "code",
   "execution_count": 7,
   "metadata": {},
   "outputs": [],
   "source": [
    "''' Calcul de l'histogramme de l'image de la requete '''\n",
    "def calcul_histogramme_img_requete(img_requete, echelle_reduction):\n",
    "    if existe_img_base(img_requete):\n",
    "        histo = construction_histogram(img_requete, echelle_reduction)\n",
    "        return histo\n",
    "    else:\n",
    "        print(\"Image inexistante\")"
   ]
  },
  {
   "cell_type": "code",
   "execution_count": 8,
   "metadata": {},
   "outputs": [],
   "source": [
    "''' Chargement de l'histogramme de l'image de test '''\n",
    "histogramme_img_req = calcul_histogramme_img_requete(base_dir+'obj1__0.png',32)"
   ]
  },
  {
   "cell_type": "code",
   "execution_count": 9,
   "metadata": {},
   "outputs": [],
   "source": [
    "''' Fonction pour calculer les distance entre l' histogrammes de \n",
    "   l'image de requete et l'histogramme des images de la base de \n",
    "   données \n",
    "   Elle prend en paramètres 2 matrices et retourne la distance\n",
    "   entre l'image de requete et les images de la bases de données '''\n",
    "def calcul_distance_histogramme(histo_img_req, histo_bases):\n",
    "    dic_distance = {}\n",
    "    for i, j in histo_bases.items():\n",
    "        distance = cv.compareHist(j,histo_img_req, cv.HISTCMP_CHISQR)\n",
    "        dic_distance[i]=distance\n",
    "    return dic_distance"
   ]
  },
  {
   "cell_type": "code",
   "execution_count": 10,
   "metadata": {},
   "outputs": [],
   "source": [
    "''' Chargement de la  distance de l'image requete\n",
    "   vers chaque image de  la base '''\n",
    "distantce_histo = calcul_distance_histogramme(histogramme_img_req,histogramme_bases)"
   ]
  },
  {
   "cell_type": "code",
   "execution_count": 11,
   "metadata": {},
   "outputs": [],
   "source": [
    "''' Fonction pour calculer le moment d'une image\n",
    "    Elle prend en paramètre une image et retourne une liste de 7 moments Hu calculé pour chaque image'''\n",
    "def calcul_moment_hu(img):\n",
    "    im = cv.imread(img)\n",
    "    # Convertir l'image en Gray\n",
    "    img_gray = cv.cvtColor(im, cv.COLOR_BGR2GRAY)\n",
    "    # Filtrer l'image pour reduire les bruits:  \n",
    "    img_gray = cv.blur(img_gray, (3,3))\n",
    "    ''' Binarisation de l'image à l'aide du seuillage\n",
    "    _,img_bin = cv.threshold(img_gray, 128, 255, cv.THRESH_BINARY) '''  \n",
    "    moments = cv.moments(img_gray)\n",
    "    # Calculate Hu Moments\n",
    "    huMoments = cv.HuMoments(moments)\n",
    "    # Log scale hu moments\n",
    "    for i in range(0,7): \n",
    "        huMoments[i] = -1 * math.copysign(1.0, huMoments[i]) * math.log10(abs(huMoments[i]))\n",
    "    return huMoments"
   ]
  },
  {
   "cell_type": "code",
   "execution_count": 12,
   "metadata": {},
   "outputs": [],
   "source": [
    "''' Fonction pour calculer les moments des images de la base'''\n",
    "def calcul_moment_hu_base(base,image_requete):\n",
    "    dic_moment_hu = {}\n",
    "    for path, _, files in os.walk(base):\n",
    "        for file in files:\n",
    "            if ((fnmatch.fnmatch(file, '*.png')) and (file != image_requete)):\n",
    "                fullname = os.path.join(path, file)\n",
    "                moment_hu = calcul_moment_hu(fullname)\n",
    "                dic_moment_hu[file]=moment_hu\n",
    "    return dic_moment_hu"
   ]
  },
  {
   "cell_type": "code",
   "execution_count": 13,
   "metadata": {},
   "outputs": [],
   "source": [
    "''' Chargement des moments des images de la base'''\n",
    "hu_moment_base = calcul_moment_hu_base(base_dir,'obj1__0.png')"
   ]
  },
  {
   "cell_type": "code",
   "execution_count": 14,
   "metadata": {},
   "outputs": [],
   "source": [
    "''' Fonction pour calculer les moments des images de la base'''\n",
    "def calcul_moment_hu_img_requete(img_requete):\n",
    "    if existe_img_base(img_requete):\n",
    "        moment_hu = calcul_moment_hu(img_requete)\n",
    "        return moment_hu\n",
    "    else:\n",
    "        print(\"Image inexistante\")"
   ]
  },
  {
   "cell_type": "code",
   "execution_count": 15,
   "metadata": {},
   "outputs": [],
   "source": [
    "''' Chargement du moment de l'image de test'''\n",
    "hu_moment_img_req = calcul_moment_hu_img_requete(base_dir+'obj1__0.png')"
   ]
  },
  {
   "cell_type": "code",
   "execution_count": 16,
   "metadata": {},
   "outputs": [],
   "source": [
    "''' Fonction pour calculer les disctances euclidiennes entre les moments \n",
    "   calculer à partir de la base et le moment de l'image de test'''\n",
    "def calcul_distance_euclidienne(a,b):\n",
    "    dic_distance = {}\n",
    "    print(len(a))\n",
    "    for i, j in a.items():\n",
    "        dist = np.linalg.norm(j - b)\n",
    "        dic_distance[i]=dist\n",
    "    return(dic_distance)"
   ]
  },
  {
   "cell_type": "code",
   "execution_count": 17,
   "metadata": {},
   "outputs": [
    {
     "name": "stdout",
     "output_type": "stream",
     "text": [
      "14\n"
     ]
    }
   ],
   "source": [
    "''' Chargement des distances euclidiennes '''\n",
    "distance_ecludienne = calcul_distance_euclidienne(hu_moment_base,hu_moment_img_req)"
   ]
  },
  {
   "cell_type": "code",
   "execution_count": 18,
   "metadata": {},
   "outputs": [],
   "source": [
    "''' Calcul de la similarité à partir des  distances calculées \n",
    "   à partir de l'histogramme (couleur) et la distance euclidienne (forme) '''\n",
    "def calcul_similarite(dis_histo, dis_eclu, w1, w2):\n",
    "    dic_similarite = {}\n",
    "    for i, j in dis_histo.items():\n",
    "        for k, l in dis_eclu.items():\n",
    "            if (i == k):\n",
    "                tot = (j*w1) + (l*w2)\n",
    "                dic_similarite[i]=tot\n",
    "                dic_similarite_trie = {keys: val for keys, val in sorted(dic_similarite.items(), key=lambda item: item[1])}\n",
    "    return(dic_similarite_trie)"
   ]
  },
  {
   "cell_type": "code",
   "execution_count": 19,
   "metadata": {},
   "outputs": [],
   "source": [
    "''' Fonction pour afficher les k images plus proches de l'image de requete '''\n",
    "def get_k_plus_proche(k, dic_similarite):\n",
    "    return list(islice(dic_similarite, k))"
   ]
  },
  {
   "cell_type": "markdown",
   "metadata": {},
   "source": [
    "### Test avec les valeurs de poids w1 = w2 = 0.5"
   ]
  },
  {
   "cell_type": "code",
   "execution_count": 20,
   "metadata": {},
   "outputs": [
    {
     "data": {
      "text/plain": [
       "[('obj1__5.png', 1636.6214042191805),\n",
       " ('obj1__10.png', 2220.612557816963),\n",
       " ('obj5__0.png', 4573.979459380964),\n",
       " ('obj5__10.png', 4770.314655474458),\n",
       " ('obj5__5.png', 6635.400472389092),\n",
       " ('obj4__10.png', 9673.550939378409),\n",
       " ('obj4__0.png', 9843.753732680701)]"
      ]
     },
     "execution_count": 20,
     "metadata": {},
     "output_type": "execute_result"
    }
   ],
   "source": [
    "get_k_plus_proche(7, calcul_similarite(distantce_histo, distance_ecludienne,0.5,0.5).items())"
   ]
  },
  {
   "cell_type": "markdown",
   "metadata": {},
   "source": [
    "### Test avec les valeurs de poids w1 = 0.7 et w2 = 0.3"
   ]
  },
  {
   "cell_type": "code",
   "execution_count": 21,
   "metadata": {},
   "outputs": [
    {
     "data": {
      "text/plain": [
       "[('obj1__5.png', 2272.9967356339603),\n",
       " ('obj1__10.png', 3090.8107293423386),\n",
       " ('obj5__0.png', 6376.141922714154),\n",
       " ('obj5__10.png', 6651.110490866718),\n",
       " ('obj5__5.png', 9262.19017596555),\n",
       " ('obj4__10.png', 13521.836239294627),\n",
       " ('obj4__0.png', 13759.943927296166)]"
      ]
     },
     "execution_count": 21,
     "metadata": {},
     "output_type": "execute_result"
    }
   ],
   "source": [
    "get_k_plus_proche(7, calcul_similarite(distantce_histo, distance_ecludienne,0.7,0.3).items())"
   ]
  },
  {
   "cell_type": "markdown",
   "metadata": {},
   "source": [
    "### Test avec les valeurs de poids w1 = 0.3 et w2 = 0.7"
   ]
  },
  {
   "cell_type": "code",
   "execution_count": 22,
   "metadata": {},
   "outputs": [
    {
     "data": {
      "text/plain": [
       "[('obj1__5.png', 1000.2460728044008),\n",
       " ('obj1__10.png', 1350.4143862915869),\n",
       " ('obj5__0.png', 2771.816996047774),\n",
       " ('obj5__10.png', 2889.518820082198),\n",
       " ('obj5__5.png', 4008.6107688126335),\n",
       " ('obj4__10.png', 5825.265639462189),\n",
       " ('obj4__0.png', 5927.563538065234)]"
      ]
     },
     "execution_count": 22,
     "metadata": {},
     "output_type": "execute_result"
    }
   ],
   "source": [
    "get_k_plus_proche(7, calcul_similarite(distantce_histo, distance_ecludienne,0.3,0.7).items())"
   ]
  }
 ],
 "metadata": {
  "kernelspec": {
   "display_name": "Python 3",
   "language": "python",
   "name": "python3"
  },
  "language_info": {
   "codemirror_mode": {
    "name": "ipython",
    "version": 3
   },
   "file_extension": ".py",
   "mimetype": "text/x-python",
   "name": "python",
   "nbconvert_exporter": "python",
   "pygments_lexer": "ipython3",
   "version": "3.8.3"
  }
 },
 "nbformat": 4,
 "nbformat_minor": 4
}
